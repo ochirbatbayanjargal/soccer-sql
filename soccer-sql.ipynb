{
 "cells": [
  {
   "cell_type": "code",
   "execution_count": 80,
   "id": "a571a9ab-6b96-44e3-ad5f-1938c60c1367",
   "metadata": {},
   "outputs": [
    {
     "name": "stdout",
     "output_type": "stream",
     "text": [
      "The sql extension is already loaded. To reload it, use:\n",
      "  %reload_ext sql\n",
      " * sqlite:///database.sqlite\n",
      "Done.\n"
     ]
    },
    {
     "data": {
      "text/html": [
       "<table>\n",
       "    <thead>\n",
       "        <tr>\n",
       "            <th>name</th>\n",
       "        </tr>\n",
       "    </thead>\n",
       "    <tbody>\n",
       "        <tr>\n",
       "            <td>sqlite_sequence</td>\n",
       "        </tr>\n",
       "        <tr>\n",
       "            <td>Player_Attributes</td>\n",
       "        </tr>\n",
       "        <tr>\n",
       "            <td>Player</td>\n",
       "        </tr>\n",
       "        <tr>\n",
       "            <td>Match</td>\n",
       "        </tr>\n",
       "        <tr>\n",
       "            <td>League</td>\n",
       "        </tr>\n",
       "        <tr>\n",
       "            <td>Country</td>\n",
       "        </tr>\n",
       "        <tr>\n",
       "            <td>Team</td>\n",
       "        </tr>\n",
       "        <tr>\n",
       "            <td>Team_Attributes</td>\n",
       "        </tr>\n",
       "    </tbody>\n",
       "</table>"
      ],
      "text/plain": [
       "[('sqlite_sequence',),\n",
       " ('Player_Attributes',),\n",
       " ('Player',),\n",
       " ('Match',),\n",
       " ('League',),\n",
       " ('Country',),\n",
       " ('Team',),\n",
       " ('Team_Attributes',)]"
      ]
     },
     "execution_count": 80,
     "metadata": {},
     "output_type": "execute_result"
    }
   ],
   "source": [
    "%load_ext sql\n",
    "%sql sqlite:///database.sqlite\n",
    "    \n",
    "# List tables\n",
    "%sql SELECT name FROM sqlite_master WHERE type='table';"
   ]
  },
  {
   "cell_type": "code",
   "execution_count": 90,
   "id": "57c4a524-9c0f-4df8-8cb7-121c39e88631",
   "metadata": {},
   "outputs": [
    {
     "name": "stdout",
     "output_type": "stream",
     "text": [
      " * sqlite:///database.sqlite\n",
      "Done.\n"
     ]
    },
    {
     "data": {
      "text/html": [
       "<table>\n",
       "    <thead>\n",
       "        <tr>\n",
       "            <th>id</th>\n",
       "            <th>player_api_id</th>\n",
       "            <th>player_name</th>\n",
       "            <th>player_fifa_api_id</th>\n",
       "            <th>birthday</th>\n",
       "            <th>height</th>\n",
       "            <th>weight</th>\n",
       "        </tr>\n",
       "    </thead>\n",
       "    <tbody>\n",
       "        <tr>\n",
       "            <td>1</td>\n",
       "            <td>505942</td>\n",
       "            <td>Aaron Appindangoye</td>\n",
       "            <td>218353</td>\n",
       "            <td>1992-02-29 00:00:00</td>\n",
       "            <td>182.88</td>\n",
       "            <td>187</td>\n",
       "        </tr>\n",
       "        <tr>\n",
       "            <td>2</td>\n",
       "            <td>155782</td>\n",
       "            <td>Aaron Cresswell</td>\n",
       "            <td>189615</td>\n",
       "            <td>1989-12-15 00:00:00</td>\n",
       "            <td>170.18</td>\n",
       "            <td>146</td>\n",
       "        </tr>\n",
       "        <tr>\n",
       "            <td>3</td>\n",
       "            <td>162549</td>\n",
       "            <td>Aaron Doran</td>\n",
       "            <td>186170</td>\n",
       "            <td>1991-05-13 00:00:00</td>\n",
       "            <td>170.18</td>\n",
       "            <td>163</td>\n",
       "        </tr>\n",
       "        <tr>\n",
       "            <td>4</td>\n",
       "            <td>30572</td>\n",
       "            <td>Aaron Galindo</td>\n",
       "            <td>140161</td>\n",
       "            <td>1982-05-08 00:00:00</td>\n",
       "            <td>182.88</td>\n",
       "            <td>198</td>\n",
       "        </tr>\n",
       "        <tr>\n",
       "            <td>5</td>\n",
       "            <td>23780</td>\n",
       "            <td>Aaron Hughes</td>\n",
       "            <td>17725</td>\n",
       "            <td>1979-11-08 00:00:00</td>\n",
       "            <td>182.88</td>\n",
       "            <td>154</td>\n",
       "        </tr>\n",
       "    </tbody>\n",
       "</table>"
      ],
      "text/plain": [
       "[(1, 505942, 'Aaron Appindangoye', 218353, '1992-02-29 00:00:00', 182.88, 187),\n",
       " (2, 155782, 'Aaron Cresswell', 189615, '1989-12-15 00:00:00', 170.18, 146),\n",
       " (3, 162549, 'Aaron Doran', 186170, '1991-05-13 00:00:00', 170.18, 163),\n",
       " (4, 30572, 'Aaron Galindo', 140161, '1982-05-08 00:00:00', 182.88, 198),\n",
       " (5, 23780, 'Aaron Hughes', 17725, '1979-11-08 00:00:00', 182.88, 154)]"
      ]
     },
     "execution_count": 90,
     "metadata": {},
     "output_type": "execute_result"
    }
   ],
   "source": [
    "%%sql \n",
    "SELECT * FROM Player LIMIT 5;"
   ]
  },
  {
   "cell_type": "code",
   "execution_count": 92,
   "id": "86657b75-9820-464a-bf76-10d4aceae407",
   "metadata": {},
   "outputs": [
    {
     "name": "stdout",
     "output_type": "stream",
     "text": [
      " * sqlite:///database.sqlite\n",
      "Done.\n"
     ]
    },
    {
     "data": {
      "text/html": [
       "<table>\n",
       "    <thead>\n",
       "        <tr>\n",
       "            <th>total_players</th>\n",
       "            <th>avg_height</th>\n",
       "        </tr>\n",
       "    </thead>\n",
       "    <tbody>\n",
       "        <tr>\n",
       "            <td>11060</td>\n",
       "            <td>181.86744484629295</td>\n",
       "        </tr>\n",
       "    </tbody>\n",
       "</table>"
      ],
      "text/plain": [
       "[(11060, 181.86744484629295)]"
      ]
     },
     "execution_count": 92,
     "metadata": {},
     "output_type": "execute_result"
    }
   ],
   "source": [
    "%%sql\n",
    "SELECT COUNT(*) as total_players, AVG(height) as avg_height\n",
    "FROM Player;"
   ]
  },
  {
   "cell_type": "code",
   "execution_count": 96,
   "id": "9bf6d445-17f9-4d4b-ac2a-42e910e728a1",
   "metadata": {},
   "outputs": [
    {
     "name": "stdout",
     "output_type": "stream",
     "text": [
      " * sqlite:///database.sqlite\n",
      "Done.\n"
     ]
    },
    {
     "data": {
      "text/html": [
       "<table>\n",
       "    <thead>\n",
       "        <tr>\n",
       "            <th>player_name</th>\n",
       "            <th>team_long_name</th>\n",
       "        </tr>\n",
       "    </thead>\n",
       "    <tbody>\n",
       "        <tr>\n",
       "            <td>Mark Volders</td>\n",
       "            <td>Royal Excel Mouscron</td>\n",
       "        </tr>\n",
       "        <tr>\n",
       "            <td>Wouter Biebauw</td>\n",
       "            <td>KV Mechelen</td>\n",
       "        </tr>\n",
       "        <tr>\n",
       "            <td>Bertrand Laquait</td>\n",
       "            <td>Sporting Charleroi</td>\n",
       "        </tr>\n",
       "        <tr>\n",
       "            <td>Boubacar Barry Copa</td>\n",
       "            <td>Sporting Lokeren</td>\n",
       "        </tr>\n",
       "        <tr>\n",
       "            <td>Stijn Stijnen</td>\n",
       "            <td>Club Brugge KV</td>\n",
       "        </tr>\n",
       "    </tbody>\n",
       "</table>"
      ],
      "text/plain": [
       "[('Mark Volders', 'Royal Excel Mouscron'),\n",
       " ('Wouter Biebauw', 'KV Mechelen'),\n",
       " ('Bertrand Laquait', 'Sporting Charleroi'),\n",
       " ('Boubacar Barry Copa', 'Sporting Lokeren'),\n",
       " ('Stijn Stijnen', 'Club Brugge KV')]"
      ]
     },
     "execution_count": 96,
     "metadata": {},
     "output_type": "execute_result"
    }
   ],
   "source": [
    "%%sql\n",
    "SELECT p.player_name, t.team_long_name\n",
    "FROM Player p\n",
    "JOIN Match m ON p.player_api_id = m.home_player_1\n",
    "JOIN Team t ON m.home_team_api_id = t.team_api_id\n",
    "LIMIT 5;"
   ]
  },
  {
   "cell_type": "code",
   "execution_count": 98,
   "id": "1a2825fa-9003-4edb-ab54-6be9917eeb7a",
   "metadata": {},
   "outputs": [
    {
     "name": "stdout",
     "output_type": "stream",
     "text": [
      "SQL Mini-Project 1: Explored soccer players and teams.\n"
     ]
    }
   ],
   "source": [
    "# Chunk 5: Summary\n",
    "print(\"SQL Mini-Project 1: Explored soccer players and teams.\")"
   ]
  },
  {
   "cell_type": "code",
   "execution_count": null,
   "id": "785fd1af-fd76-4fb2-b33c-988369758ff0",
   "metadata": {},
   "outputs": [],
   "source": []
  }
 ],
 "metadata": {
  "kernelspec": {
   "display_name": "Python 3 (ipykernel)",
   "language": "python",
   "name": "python3"
  },
  "language_info": {
   "codemirror_mode": {
    "name": "ipython",
    "version": 3
   },
   "file_extension": ".py",
   "mimetype": "text/x-python",
   "name": "python",
   "nbconvert_exporter": "python",
   "pygments_lexer": "ipython3",
   "version": "3.12.4"
  }
 },
 "nbformat": 4,
 "nbformat_minor": 5
}
